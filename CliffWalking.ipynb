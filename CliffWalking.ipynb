{
 "cells": [
  {
   "cell_type": "code",
   "execution_count": 1,
   "metadata": {},
   "outputs": [],
   "source": [
    "# importing the relevant modules\n",
    "import gym\n",
    "import sys\n",
    "import numpy as np\n",
    "import math\n",
    "import random\n",
    "import matplotlib.pyplot as plt\n",
    "from collections import defaultdict, deque"
   ]
  },
  {
   "cell_type": "code",
   "execution_count": 2,
   "metadata": {},
   "outputs": [
    {
     "name": "stdout",
     "output_type": "stream",
     "text": [
      "Action Space Discrete(4)\n",
      "State Space Discrete(48)\n"
     ]
    }
   ],
   "source": [
    "# Setting up and initializing the environment\n",
    "env = gym.make('CliffWalking-v0')\n",
    "print(\"Action Space {}\".format(env.action_space))\n",
    "print(\"State Space {}\".format(env.observation_space))"
   ]
  },
  {
   "cell_type": "code",
   "execution_count": 3,
   "metadata": {},
   "outputs": [
    {
     "name": "stdout",
     "output_type": "stream",
     "text": [
      "Episode 5000/5000"
     ]
    },
    {
     "data": {
      "image/png": "[encoded data removed]",
      "text/plain": [
       "<Figure size 432x288 with 1 Axes>"
      ]
     },
     "metadata": {
      "needs_background": "light"
     },
     "output_type": "display_data"
    },
    {
     "name": "stdout",
     "output_type": "stream",
     "text": [
      "Best Average Reward over 100 Episodes:  -13.0\n",
      "\n",
      "Estimated Optimal Policy (UP = 0, RIGHT = 1, DOWN = 2, LEFT = 3, N/A = -1):\n",
      "[[ 3  0  3  1  0  1  1  0  1  3  2  0]\n",
      " [ 2  0  0  0  1  1  2  1  2  1  3  2]\n",
      " [ 1  1  1  1  1  1  1  1  1  1  1  2]\n",
      " [ 0 -1 -1 -1 -1 -1 -1 -1 -1 -1 -1  0]]\n"
     ]
    }
   ],
   "source": [
    "# Returns updated Q-value for the most recent experience\n",
    "def update_Q(alpha, gamma, Q, state, action, reward, next_state=None):\n",
    "    current = Q[state][action]  \n",
    "    Qsa_next = np.max(Q[next_state]) if next_state is not None else 0 \n",
    "    target = reward + (gamma * Qsa_next)            \n",
    "    new_value = current + (alpha * (target - current)) \n",
    "    return new_value\n",
    "\n",
    "\n",
    "# Epsilon Greedy Action\n",
    "def epsilon_greedy(Q, state, nA, eps):\n",
    "    if random.random() > eps:\n",
    "        return np.argmax(Q[state])\n",
    "    else:\n",
    "        return random.choice(np.arange(env.action_space.n))\n",
    "    \n",
    "# QLearning for CliffWalking\n",
    "def q_learning(env, num_episodes, alpha, gamma=1.0, plot_every=100):\n",
    "    nA = env.action_space.n\n",
    "    Q = defaultdict(lambda: np.zeros(nA))\n",
    "    \n",
    "    tmp_scores = deque(maxlen=plot_every)     # deque for keeping track of scores\n",
    "    avg_scores = deque(maxlen=num_episodes)\n",
    "    \n",
    "    for i_episode in range(1, num_episodes+1):\n",
    "        # monitor progress\n",
    "        if i_episode % 100 == 0:\n",
    "            print(\"\\rEpisode {}/{}\".format(i_episode, num_episodes), end=\"\")\n",
    "            sys.stdout.flush()\n",
    "        score = 0       \n",
    "        state = env.reset()                           \n",
    "        eps = 1.0 / i_episode\n",
    "        \n",
    "        \n",
    "        while True:\n",
    "            action = epsilon_greedy(Q, state, nA, eps)    \n",
    "            next_state, reward, done, info = env.step(action) \n",
    "            score += reward \n",
    "            Q[state][action] = update_Q(alpha, gamma, Q, \\\n",
    "                                                 state, action, reward, next_state)        \n",
    "            state = next_state     \n",
    "            if done:\n",
    "                tmp_scores.append(score)      \n",
    "                break\n",
    "        if (i_episode % plot_every == 0):\n",
    "            avg_scores.append(np.mean(tmp_scores))\n",
    "            \n",
    "    plt.plot(np.linspace(0,num_episodes,len(avg_scores),endpoint=False), np.asarray(avg_scores))\n",
    "    plt.xlabel('Episode Number')\n",
    "    plt.ylabel('Average Reward (Over Next %d Episodes)' % plot_every)\n",
    "    plt.show()\n",
    "    # print best 100-episode performance\n",
    "    print(('Best Average Reward over %d Episodes: ' % plot_every), np.max(avg_scores))\n",
    "    return Q\n",
    "\n",
    "\n",
    "# Obtain optimal policy and action value\n",
    "Q_LearningMax = q_learning(env, 5000, .01)\n",
    "\n",
    "# print the estimated optimal policy\n",
    "max_policy = np.array([np.argmax(Q_LearningMax[key]) if key in Q_LearningMax else -1 for key in np.arange(48)]).reshape((4,12))\n",
    "print(\"\\nEstimated Optimal Policy (UP = 0, RIGHT = 1, DOWN = 2, LEFT = 3, N/A = -1):\")\n",
    "print(max_policy)"
   ]
  }
 ],
 "metadata": {
  "kernelspec": {
   "display_name": "Python 3",
   "language": "python",
   "name": "python3"
  },
  "language_info": {
   "codemirror_mode": {
    "name": "ipython",
    "version": 3
   },
   "file_extension": ".py",
   "mimetype": "text/x-python",
   "name": "python",
   "nbconvert_exporter": "python",
   "pygments_lexer": "ipython3",
   "version": "3.7.7"
  }
 },
 "nbformat": 4,
 "nbformat_minor": 4
}
